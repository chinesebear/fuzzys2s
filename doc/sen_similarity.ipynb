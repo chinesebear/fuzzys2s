{
 "cells": [
  {
   "cell_type": "markdown",
   "metadata": {},
   "source": [
    "## 两个句子之间的相似度\n",
    "- 余弦相似性\n",
    "\n",
    "- 基于表示学习的文本相似度计算方法的思路如下：\n",
    "\n",
    "- 利用表示学习方法将不定长的文本表示为定长的实值向量。\n",
    "- 计算转换后的实值向量相似度，用于表示两个文本的相似度。\n",
    "\n",
    "- 主成分分析（Principal Component Analysis，PCA）， 是一种统计方法。 通过正交变换将一组可能存在相关性的变量转换为一组线性不相关的变量，转换后的这组变量叫主成分。\n",
    "- https://blog.csdn.net/zhongkelee/article/details/44064401 \n",
    "- https://zhuanlan.zhihu.com/p/37777074\n",
    "- https://zhuanlan.zhihu.com/p/349592491\n",
    "- https://zhuanlan.zhihu.com/p/55217881"
   ]
  }
 ],
 "metadata": {
  "kernelspec": {
   "display_name": "Python 3.10.6 64-bit",
   "language": "python",
   "name": "python3"
  },
  "language_info": {
   "name": "python",
   "version": "3.10.6"
  },
  "orig_nbformat": 4,
  "vscode": {
   "interpreter": {
    "hash": "31f2aee4e71d21fbe5cf8b01ff0e069b9275f58929596ceb00d14d90e3e16cd6"
   }
  }
 },
 "nbformat": 4,
 "nbformat_minor": 2
}
