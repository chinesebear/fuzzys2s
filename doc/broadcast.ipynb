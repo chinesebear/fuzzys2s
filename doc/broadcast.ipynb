{
 "cells": [
  {
   "cell_type": "code",
   "execution_count": 2,
   "metadata": {},
   "outputs": [],
   "source": [
    "import torch\n"
   ]
  },
  {
   "cell_type": "code",
   "execution_count": 8,
   "metadata": {},
   "outputs": [
    {
     "name": "stdout",
     "output_type": "stream",
     "text": [
      "tensor([[3, 3, 3],\n",
      "        [2, 2, 2],\n",
      "        [2, 2, 2],\n",
      "        [2, 2, 2]])\n",
      "tensor([[20, 24, 28],\n",
      "        [20, 24, 28],\n",
      "        [20, 24, 28]])\n"
     ]
    }
   ],
   "source": [
    "x = torch.tensor([4,4,4])\n",
    "centers = torch.tensor([[1,1,1],[2,2,2],[2,2,2],[2,2,2]])\n",
    "membership = x - centers\n",
    "print(membership)\n",
    "\n",
    "w = torch.tensor([[5,6,7],[5,6,7],[5,6,7]])\n",
    "f_x= w *x\n",
    "print(f_x)"
   ]
  },
  {
   "cell_type": "code",
   "execution_count": 4,
   "metadata": {},
   "outputs": [
    {
     "name": "stdout",
     "output_type": "stream",
     "text": [
      "[1, 2, 3, 4, 5]\n",
      "[2, 3, 4, 5, 6]\n"
     ]
    }
   ],
   "source": [
    "def del_eos(sentence):\n",
    "    return sentence[:-1]\n",
    "\n",
    "def del_sos(sentence):\n",
    "    return sentence[1:]\n",
    "\n",
    "print(del_eos([1,2,3,4,5,6]))\n",
    "\n",
    "print(del_sos([1,2,3,4,5,6]))"
   ]
  }
 ],
 "metadata": {
  "kernelspec": {
   "display_name": "Python 3.10.6 64-bit",
   "language": "python",
   "name": "python3"
  },
  "language_info": {
   "codemirror_mode": {
    "name": "ipython",
    "version": 3
   },
   "file_extension": ".py",
   "mimetype": "text/x-python",
   "name": "python",
   "nbconvert_exporter": "python",
   "pygments_lexer": "ipython3",
   "version": "3.10.6"
  },
  "orig_nbformat": 4,
  "vscode": {
   "interpreter": {
    "hash": "31f2aee4e71d21fbe5cf8b01ff0e069b9275f58929596ceb00d14d90e3e16cd6"
   }
  }
 },
 "nbformat": 4,
 "nbformat_minor": 2
}
