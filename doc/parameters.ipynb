{
 "cells": [
  {
   "cell_type": "code",
   "execution_count": 17,
   "metadata": {},
   "outputs": [],
   "source": [
    "import torch\n",
    "from torch import nn\n",
    "device = torch.device(\"cuda\" if torch.cuda.is_available() else \"cpu\")\n",
    "class Weight(nn.Module):\n",
    "    def __init__(self):\n",
    "        super(Weight, self).__init__()\n",
    "        self.w = nn.Parameter(torch.tensor([0.5]))\n",
    "        self.delta = nn.Parameter(torch.randn(8,8))\n",
    "    def forward(self,x):\n",
    "        output = x + self.delta[0]\n",
    "        return output*self.w\n",
    "\n",
    "class MLP(nn.Module):\n",
    "    def __init__(self,feature_num , rule_num, center,sigma ):\n",
    "        super(MLP, self).__init__()\n",
    "        self.fc = nn.Linear(feature_num, 32)\n",
    "        self.relu = nn.ReLU()\n",
    "        self.drop_out= nn.Dropout(0.1)\n",
    "        self.fc2 = nn.Linear(32, 16)\n",
    "        self.relu2 = nn.ReLU()\n",
    "        self.drop_out2= nn.Dropout(0.1)\n",
    "        self.fc3 = nn.Linear(16, 8)\n",
    "        self.weight = Weight()\n",
    "    def forward(self, x):\n",
    "        input = self.fc(x)\n",
    "        input = self.relu(input)\n",
    "        input = self.drop_out(input)\n",
    "        input = self.fc2(input)\n",
    "        input = self.relu2(input)\n",
    "        input = self.drop_out2(input)\n",
    "        output = self.fc3(input)\n",
    "        return self.weight(output)"
   ]
  },
  {
   "cell_type": "code",
   "execution_count": null,
   "metadata": {},
   "outputs": [],
   "source": [
    "features = torch.randn((100, 13))\n",
    "target = torch.randint(0,5, (100,1))\n",
    "\n",
    "mlp = MLP(13,10, \"\",\"\")\n",
    "optimizer = torch.optim.Adam(mlp.parameters(), lr=0.0001, weight_decay=0)\n",
    "criterion = nn.CrossEntropyLoss()\n",
    "for i in range(100):\n",
    "    x = torch.tensor(features[i])\n",
    "    target = torch.tensor(target[i]).squeeze()\n",
    "    output = mlp(x)\n",
    "    loss = criterion(output, target)\n",
    "    optimizer.zero_grad()\n",
    "    loss.backward()\n",
    "    optimizer.step()\n",
    "    for name, parms in mlp.named_parameters():\n",
    "        print('-->name:', name)\n",
    "        # print('-->para:', parms)\n",
    "        print('-->grad_requirs:',parms.requires_grad)\n",
    "        print('-->grad_value:',parms.grad)"
   ]
  },
  {
   "cell_type": "code",
   "execution_count": 31,
   "metadata": {},
   "outputs": [
    {
     "name": "stdout",
     "output_type": "stream",
     "text": [
      "tensor([0, 1, 2, 3, 4, 5, 6, 7])\n",
      "tensor([[0, 1, 2, 3, 4, 5, 6, 7],\n",
      "        [0, 1, 2, 3, 4, 5, 6, 7],\n",
      "        [0, 1, 2, 3, 4, 5, 6, 7],\n",
      "        [0, 1, 2, 3, 4, 5, 6, 7],\n",
      "        [0, 1, 2, 3, 4, 5, 6, 7],\n",
      "        [0, 1, 2, 3, 4, 5, 6, 7],\n",
      "        [0, 1, 2, 3, 4, 5, 6, 7],\n",
      "        [0, 1, 2, 3, 4, 5, 6, 7],\n",
      "        [0, 1, 2, 3, 4, 5, 6, 7],\n",
      "        [0, 1, 2, 3, 4, 5, 6, 7]])\n"
     ]
    }
   ],
   "source": [
    "x = torch.tensor([0,1,2,3,4,5,6,7])\n",
    "# x = x.view(1,-1)\n",
    "print(x)\n",
    "x_arr = x.repeat(1, 10).view(-1, 8)\n",
    "print(x_arr)"
   ]
  },
  {
   "cell_type": "code",
   "execution_count": 2,
   "metadata": {},
   "outputs": [
    {
     "name": "stdout",
     "output_type": "stream",
     "text": [
      "tensor([0.2000, 0.2000, 0.3000, 0.4000, 0.4000, 0.4000, 0.4000, 0.4000, 0.4000,\n",
      "        0.4000])\n",
      "tensor([0.2000, 0.4000, 0.9000, 1.6000, 2.0000, 2.4000, 2.8000, 3.2000, 3.6000,\n",
      "        4.0000])\n"
     ]
    }
   ],
   "source": [
    "import torch\n",
    "rule = torch.tensor([1,2,3,4,5,6,7,8,9,10])\n",
    "memory = torch.tensor([2,2,3,4,4,4,4,4,4,4])\n",
    "recurrent_weight = torch.tensor([0.1,0.1, 0.1,0.1,0.1,0.1, 0.1,0.1,0.1,0.1])\n",
    "recurrent_memory = torch.mul(memory, recurrent_weight)\n",
    "print(recurrent_memory)\n",
    "rule = torch.mul(rule, recurrent_memory)\n",
    "print(rule)"
   ]
  }
 ],
 "metadata": {
  "kernelspec": {
   "display_name": "Python 3.10.6 64-bit",
   "language": "python",
   "name": "python3"
  },
  "language_info": {
   "codemirror_mode": {
    "name": "ipython",
    "version": 3
   },
   "file_extension": ".py",
   "mimetype": "text/x-python",
   "name": "python",
   "nbconvert_exporter": "python",
   "pygments_lexer": "ipython3",
   "version": "3.10.6"
  },
  "orig_nbformat": 4,
  "vscode": {
   "interpreter": {
    "hash": "31f2aee4e71d21fbe5cf8b01ff0e069b9275f58929596ceb00d14d90e3e16cd6"
   }
  }
 },
 "nbformat": 4,
 "nbformat_minor": 2
}
