{
 "cells": [
  {
   "cell_type": "code",
   "execution_count": 2,
   "metadata": {},
   "outputs": [],
   "source": [
    "from tokenizers import Tokenizer\n",
    "from tokenizers.models import BPE,WordPiece,Unigram\n",
    "from tokenizers.pre_tokenizers import Whitespace\n",
    "from tokenizers.trainers import BpeTrainer,WordPieceTrainer, UnigramTrainer"
   ]
  },
  {
   "cell_type": "code",
   "execution_count": 4,
   "metadata": {},
   "outputs": [],
   "source": [
    "class Options:\n",
    "    def __init__(self, name) -> None:\n",
    "        self.name= name\n",
    "    def name(self):\n",
    "        return self.name\n",
    "options = Options(\"Model\")\n",
    "options.SOS = 0 # start of sentence\n",
    "options.EOS = 1 # End of sentence\n",
    "options.PAD = 2 # padding token\n",
    "options.UNK = 3 # unknown token, word frequency low\n",
    "class Vocab:\n",
    "    def __init__(self, name):\n",
    "        self.name = name\n",
    "        self.word2index = {\"<sos>\":options.SOS, \"<eos>\":options.EOS, \"<pad>\":options.PAD,\"<unk>\":options.UNK}\n",
    "        self.word2count = {\"<sos>\":1, \"<eos>\":1, \"<pad>\":1,\"<unk>\":1}\n",
    "        self.index2word = {options.SOS: \"<sos>\", options.EOS: \"<eos>\", options.PAD:\"<pad>\",options.UNK: \"<unk>\"}\n",
    "        self.n_words = 4  # Count PAD , SOS and EOS\n",
    "        self.feature_max = [] # max value of feature\n",
    "        self.feature_min = [] # min value of feature\n",
    "        self.line_max = 0 # max length of sentence\n",
    "\n",
    "    def addTokens(self, tokens):\n",
    "        for word in tokens:\n",
    "            self.addWord(word)\n",
    "\n",
    "    def addWord(self, word):\n",
    "        if word not in self.word2index:\n",
    "            self.word2index[word] = self.n_words\n",
    "            self.word2count[word] = 1\n",
    "            self.index2word[self.n_words] = word\n",
    "            self.n_words += 1\n",
    "        else:\n",
    "            self.word2count[word] += 1"
   ]
  },
  {
   "cell_type": "code",
   "execution_count": null,
   "metadata": {},
   "outputs": [],
   "source": [
    "from transformers import AutoTokenizer\n",
    "import numpy as np\n",
    "from datasets import load_dataset,load_from_disk\n",
    "\n",
    "def gen_token_features(tokens, vocab):\n",
    "    tok_len = len(tokens)\n",
    "    features= np.empty([tok_len, 2])\n",
    "    for i in range(tok_len):\n",
    "        token = tokens[i]\n",
    "        size = len(token)\n",
    "        count = vocab.word2count[token]\n",
    "        features[i] = [size, count]\n",
    "    return features\n",
    "\n",
    "dataset_path = \"/home/yang/github/fuzzys2s/output/wmt14/fr-en/\"\n",
    "dataset = load_from_disk(dataset_path)\n",
    "train_len = dataset['train'].num_rows\n",
    "train_iter = iter(dataset['train'])\n",
    "tokenizer_path = \"/home/yang/github/fuzzys2s/output/bert-base-uncased/\"\n",
    "tokenizer = AutoTokenizer.from_pretrained(tokenizer_path)\n",
    "vocab = Vocab('wmt14')\n",
    "for i in range(train_len):\n",
    "    data = next(train_iter)\n",
    "    de = data['translation']['de']\n",
    "    en = data['translation']['en']\n",
    "    raw_line =  en + ' ' + de\n",
    "    tokens = tokenizer.tokenize(raw_line)\n",
    "    vocab.addTokens(tokens)\n",
    "    \n"
   ]
  },
  {
   "cell_type": "code",
   "execution_count": 3,
   "metadata": {},
   "outputs": [
    {
     "name": "stderr",
     "output_type": "stream",
     "text": [
      "Found cached dataset wmt16 (/home/yang/.cache/huggingface/datasets/wmt16/de-en/1.0.0/746749a11d25c02058042da7502d973ff410e73457f3d305fc1177dc0e8c4227)\n"
     ]
    },
    {
     "data": {
      "application/vnd.jupyter.widget-view+json": {
       "model_id": "03ff3cccb52c427c9efab50fd45d30ce",
       "version_major": 2,
       "version_minor": 0
      },
      "text/plain": [
       "  0%|          | 0/3 [00:00<?, ?it/s]"
      ]
     },
     "metadata": {},
     "output_type": "display_data"
    }
   ],
   "source": [
    "from transformers import AutoTokenizer\n",
    "import numpy as np\n",
    "from datasets import load_dataset\n",
    "dataset = load_dataset(\"wmt16\",'de-en')\n",
    "dataset = dataset.shuffle()\n",
    "# print(dataset['train'])\n",
    "train_len = dataset['train'].num_rows\n",
    "train_iter = iter(dataset['train'])\n",
    "raw_line = np.empty(train_len).tolist()\n",
    "for i in range(train_len):\n",
    "    data = next(train_iter)\n",
    "    de = data['translation']['de']\n",
    "    en = data['translation']['en']\n",
    "    raw_line[i] =  en + ' ' + de"
   ]
  },
  {
   "cell_type": "code",
   "execution_count": 4,
   "metadata": {},
   "outputs": [
    {
     "data": {
      "image/png": "[encoded data removed]",
      "text/plain": [
       "<Figure size 800x500 with 1 Axes>"
      ]
     },
     "metadata": {},
     "output_type": "display_data"
    }
   ],
   "source": [
    "from matplotlib import pyplot as plt\n",
    "import os\n",
    "\n",
    "def train_tokenizer(raw_lines, vocab_size, dataset):\n",
    "    tokenizer_path = \"../output/tokenizers/vs\"+str(vocab_size)+\"_\"+dataset+\"_tokenizer\"\n",
    "    if os.path.exists(tokenizer_path):\n",
    "        tokenizer = AutoTokenizer.from_pretrained(tokenizer_path)\n",
    "    else:\n",
    "        tokenizer = AutoTokenizer.from_pretrained(\"bert-base-uncased\")\n",
    "        tokenizer = tokenizer.train_new_from_iterator(raw_lines, vocab_size=vocab_size)\n",
    "        tokenizer.save_pretrained(tokenizer_path)\n",
    "    slen = 0\n",
    "    snum = 100\n",
    "    count = 0\n",
    "    for line in raw_line[:snum]:\n",
    "        if len(line) >= 512:\n",
    "            continue\n",
    "        count = count + 1\n",
    "        tokens = tokenizer.tokenize(line)\n",
    "        slen = slen + len(tokens)\n",
    "    return vocab_size, int(slen/count)\n",
    "\n",
    "tok_num = 50\n",
    "tok_par = 1000\n",
    "tok_data= np.empty((tok_num,2))\n",
    "for i in range(tok_num):\n",
    "    if i <= 0:\n",
    "        continue\n",
    "    vs, tlen = train_tokenizer(raw_line, i*tok_par, \"wmt16 de-en\")\n",
    "    tok_data[i][0] = vs\n",
    "    tok_data[i][1] = tlen\n",
    "\n",
    "plt.figure(figsize=(8, 5))\n",
    "plt.scatter(tok_data[1:,0], tok_data[1:,1], alpha=.9)\n",
    "plt.plot(tok_data[1:,0], tok_data[1:,1])\n",
    "plt.xlabel(\"vocab size\", size=12)\n",
    "plt.ylabel(\"sequence length\", size=12)\n",
    "plt.show()"
   ]
  },
  {
   "cell_type": "code",
   "execution_count": 32,
   "metadata": {},
   "outputs": [
    {
     "name": "stdout",
     "output_type": "stream",
     "text": [
      "vocab size=1000 tokenizer\n",
      "After the very successful cooperation with german Hip Hop artist Samy Deluxe and the female race driver Kati Droste, the german artist Clueso will become the new vigozone - agent. Six Step war verantwortlich für die Auswahl und betreut Clueso auch im weiteren Verlauf der diesjährigen vigozone Kampagne.\n",
      "[vs1000]  256\n",
      "[vs2000]  256\n",
      "[vs5000]  111\n",
      "[vs10000]  80\n",
      "[vs20000]  65\n",
      "[vs50000]  59\n"
     ]
    }
   ],
   "source": [
    "vs1000_tokenizer = AutoTokenizer.from_pretrained(\"../output/vs1000_tokenizer/\")\n",
    "vs2000_tokenizer = AutoTokenizer.from_pretrained(\"../output/vs2000_tokenizer/\")\n",
    "vs5000_tokenizer = AutoTokenizer.from_pretrained(\"../output/vs5000_tokenizer/\")\n",
    "vs10000_tokenizer = AutoTokenizer.from_pretrained(\"../output/vs10000_tokenizer/\")\n",
    "vs20000_tokenizer = AutoTokenizer.from_pretrained(\"../output/vs20000_tokenizer/\")\n",
    "vs50000_tokenizer = AutoTokenizer.from_pretrained(\"../output/vs50000_tokenizer/\")\n",
    "print(\"vocab size=1000 tokenizer\")\n",
    "line = raw_line[10]\n",
    "print(line)\n",
    "tokens = vs1000_tokenizer.tokenize(line)\n",
    "print('[vs1000] ',str(len(tokens)))\n",
    "tokens = vs2000_tokenizer.tokenize(line)\n",
    "print('[vs2000] ',str(len(tokens)))\n",
    "tokens = vs5000_tokenizer.tokenize(line)\n",
    "print('[vs5000] ',str(len(tokens)))\n",
    "tokens = vs10000_tokenizer.tokenize(line)\n",
    "print('[vs10000] ',str(len(tokens)))\n",
    "tokens = vs20000_tokenizer.tokenize(line)\n",
    "print('[vs20000] ',str(len(tokens)))\n",
    "tokens = vs50000_tokenizer.tokenize(line)\n",
    "print('[vs50000] ',str(len(tokens)))"
   ]
  }
 ],
 "metadata": {
  "kernelspec": {
   "display_name": "Python 3.10.6 64-bit",
   "language": "python",
   "name": "python3"
  },
  "language_info": {
   "codemirror_mode": {
    "name": "ipython",
    "version": 3
   },
   "file_extension": ".py",
   "mimetype": "text/x-python",
   "name": "python",
   "nbconvert_exporter": "python",
   "pygments_lexer": "ipython3",
   "version": "3.10.6"
  },
  "orig_nbformat": 4,
  "vscode": {
   "interpreter": {
    "hash": "31f2aee4e71d21fbe5cf8b01ff0e069b9275f58929596ceb00d14d90e3e16cd6"
   }
  }
 },
 "nbformat": 4,
 "nbformat_minor": 2
}
