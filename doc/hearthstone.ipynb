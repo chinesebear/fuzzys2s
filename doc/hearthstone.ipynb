{
 "cells": [
  {
   "cell_type": "markdown",
   "metadata": {},
   "source": [
    "## read raw data"
   ]
  },
  {
   "cell_type": "code",
   "execution_count": 13,
   "metadata": {},
   "outputs": [],
   "source": [
    "from loguru import logger\n",
    "from transformers import AutoTokenizer\n",
    "from torchtext.data import get_tokenizer\n",
    "import os\n",
    "\n",
    "class Options:\n",
    "    def __init__(self, name) -> None:\n",
    "        self.name= name\n",
    "    def name(self):\n",
    "        return self.name\n",
    "\n",
    "# project gloal parameter\n",
    "options = Options(\"Model\")\n",
    "options.base_path=\"/home/yang/github/fuzzys2s/\"\n",
    "options.SOS = 0 # start of sentence\n",
    "options.EOS = 1 # End of sentence\n",
    "options.PAD = 2 # padding token\n",
    "options.UNK = 3 # unknown token, word frequency low\n",
    "\n",
    "class Vocab:\n",
    "    def __init__(self, name):\n",
    "        self.name = name\n",
    "        self.word2index = {\"<sos>\":options.SOS, \"<eos>\":options.EOS, \"<pad>\":options.PAD,\"<unk>\":options.UNK}\n",
    "        self.word2count = {\"<sos>\":1, \"<eos>\":1, \"<pad>\":1,\"<unk>\":1}\n",
    "        self.index2word = {options.SOS: \"<sos>\", options.EOS: \"<eos>\", options.PAD:\"<pad>\",options.UNK: \"<unk>\"}\n",
    "        self.n_words = 4  # Count PAD , SOS and EOS\n",
    "        self.feature_max = [] # max value of feature\n",
    "        self.feature_min = [] # min value of feature\n",
    "        self.line_max = 0 # max length of sentence\n",
    "\n",
    "    def addTokens(self, tokens):\n",
    "        for word in tokens:\n",
    "            self.addWord(word)\n",
    "\n",
    "    def addWord(self, word):\n",
    "        if word not in self.word2index:\n",
    "            self.word2index[word] = self.n_words\n",
    "            self.word2count[word] = 1\n",
    "            self.index2word[self.n_words] = word\n",
    "            self.n_words += 1\n",
    "        else:\n",
    "            self.word2count[word] += 1\n",
    "\n",
    "def build_vocab(vocab_src, vocab_tgt, tokens):\n",
    "    for sentence in tokens:\n",
    "        src = sentence[0]\n",
    "        tgt = sentence[1]\n",
    "        vocab_src.addTokens(src)\n",
    "        vocab_tgt.addTokens(tgt)\n",
    "        if len(src) > vocab_src.line_max:\n",
    "            vocab_src.line_max = len(src)\n",
    "        if len(tgt) > vocab_tgt.line_max:\n",
    "            vocab_tgt.line_max = len(tgt)\n",
    "    return vocab_src, vocab_tgt\n",
    "\n",
    "def get_base_tokenizer(name):\n",
    "    tokenizer_path = options.base_path+\"output/\"+name+\"/\"\n",
    "    if os.path.exists(tokenizer_path):\n",
    "        tokenizer = AutoTokenizer.from_pretrained(tokenizer_path)\n",
    "    else:\n",
    "        tokenizer = AutoTokenizer.from_pretrained(name)\n",
    "        tokenizer.save_pretrained(tokenizer_path)\n",
    "    return tokenizer.tokenize\n",
    "\n",
    "def gen_token_vectors(vocab_src, vocab_tgt, tokens):\n",
    "    token_vectors =[]\n",
    "    for row in tokens:\n",
    "        src = [vocab_src.word2index[word]  for word in row[0]]\n",
    "        tgt = [vocab_tgt.word2index[word]  for word in row[1]]\n",
    "        token_vectors.append([src, tgt])\n",
    "    return token_vectors\n",
    "\n",
    "def read_line_pair(src_path, tgt_path):\n",
    "    src_fd = open(src_path, \"r\")\n",
    "    tgt_fd = open(tgt_path, \"r\")\n",
    "    src_lines = src_fd.readlines()\n",
    "    tgt_lines = tgt_fd.readlines()\n",
    "    lines =[]\n",
    "    for i  in range(len(src_lines)):\n",
    "        src = src_lines[i]\n",
    "        tgt = tgt_lines[i]\n",
    "        lines.append([src, tgt])\n",
    "    src_fd.close()\n",
    "    tgt_fd.close()\n",
    "    return lines\n",
    "\n",
    "def read_hearthstone_data():\n",
    "    logger.info(\"read raw data\")\n",
    "    train_lines = read_line_pair(options.base_path+'doc/hearthstone/train_hs.in', options.base_path+'doc/hearthstone/train_hs.out')\n",
    "    valid_lines = read_line_pair(options.base_path+'doc/hearthstone/dev_hs.in', options.base_path+'doc/hearthstone/dev_hs.out')\n",
    "    test_lines = read_line_pair(options.base_path+'doc/hearthstone/test_hs.in', options.base_path+'doc/hearthstone/test_hs.out')\n",
    "    train_tokens=[]\n",
    "    valid_tokens=[]\n",
    "    test_tokens=[]\n",
    "    tokenizer = get_base_tokenizer('gpt2')\n",
    "    # tokenizer = get_tokenizer(\"basic_english\")\n",
    "    for src, tgt in train_lines:\n",
    "        src_tokens = tokenizer(src)\n",
    "        tgt_tokens = tokenizer(tgt)\n",
    "        train_tokens.append([src_tokens, tgt_tokens])\n",
    "    for src, tgt in valid_lines:\n",
    "        src_tokens = tokenizer(src)\n",
    "        tgt_tokens = tokenizer(tgt)\n",
    "        valid_tokens.append([src_tokens, tgt_tokens])\n",
    "    for src, tgt in test_lines:\n",
    "        src_tokens = tokenizer(src)\n",
    "        tgt_tokens = tokenizer(tgt)\n",
    "        test_tokens.append([src_tokens, tgt_tokens])\n",
    "    logger.info(\"build vocabulary\")\n",
    "    vocab_src = Vocab(\"src\")\n",
    "    vocab_tgt = Vocab(\"tgt\")\n",
    "    build_vocab(vocab_src, vocab_tgt, train_tokens)\n",
    "    build_vocab(vocab_src, vocab_tgt, valid_tokens)\n",
    "    build_vocab(vocab_src, vocab_tgt, test_tokens)\n",
    "    logger.info(\"src vocab name:%s, size:%d\" %(vocab_src.name, vocab_src.n_words))\n",
    "    logger.info(\"tgt vocab name:%s, size:%d\" %(vocab_tgt.name, vocab_tgt.n_words))\n",
    "    logger.info(\"generate token vectors\")\n",
    "    train_data = gen_token_vectors(vocab_src, vocab_tgt, train_tokens)\n",
    "    valid_data = gen_token_vectors(vocab_src, vocab_tgt, valid_tokens)\n",
    "    test_data = gen_token_vectors(vocab_src, vocab_tgt, test_tokens)\n",
    "    return train_data, valid_data, test_data, vocab_src, vocab_tgt"
   ]
  },
  {
   "cell_type": "markdown",
   "metadata": {},
   "source": [
    "## plot graph"
   ]
  },
  {
   "cell_type": "code",
   "execution_count": 14,
   "metadata": {},
   "outputs": [
    {
     "name": "stderr",
     "output_type": "stream",
     "text": [
      "2023-05-08 14:19:30.606 | INFO     | __main__:read_hearthstone_data:88 - read raw data\n",
      "2023-05-08 14:19:30.782 | INFO     | __main__:read_hearthstone_data:109 - build vocabulary\n",
      "2023-05-08 14:19:30.798 | INFO     | __main__:read_hearthstone_data:115 - src vocab name:src, size:1673\n",
      "2023-05-08 14:19:30.799 | INFO     | __main__:read_hearthstone_data:116 - tgt vocab name:tgt, size:2359\n",
      "2023-05-08 14:19:30.799 | INFO     | __main__:read_hearthstone_data:117 - generate token vectors\n"
     ]
    },
    {
     "data": {
      "image/png": "[encoded data removed]",
      "text/plain": [
       "<Figure size 1000x500 with 1 Axes>"
      ]
     },
     "metadata": {},
     "output_type": "display_data"
    }
   ],
   "source": [
    "from matplotlib import pyplot as plt\n",
    "import numpy as np\n",
    "logger.add(options.base_path+'output/hearthstone-analyze.log')\n",
    "train_data, valid_data, test_data, vocab_src, vocab_tgt=read_hearthstone_data()\n",
    "data = []\n",
    "for i in range(vocab_src.n_words):\n",
    "    word = vocab_src.index2word[i]\n",
    "    count = vocab_src.word2count[word]\n",
    "    if count <1000:\n",
    "        data.append([len(word), count])\n",
    "    \n",
    "data = np.array(data)\n",
    "\n",
    "plt.figure(figsize=(10, 5))\n",
    "plt.xlabel(\"token size\", size=12)\n",
    "plt.ylabel(\"token count\", size=12)\n",
    "plt.scatter(data[:,0], data[:,1], alpha=.1)\n",
    "plt.show()"
   ]
  }
 ],
 "metadata": {
  "kernelspec": {
   "display_name": "Python 3.10.6 64-bit",
   "language": "python",
   "name": "python3"
  },
  "language_info": {
   "codemirror_mode": {
    "name": "ipython",
    "version": 3
   },
   "file_extension": ".py",
   "mimetype": "text/x-python",
   "name": "python",
   "nbconvert_exporter": "python",
   "pygments_lexer": "ipython3",
   "version": "3.10.6"
  },
  "orig_nbformat": 4,
  "vscode": {
   "interpreter": {
    "hash": "31f2aee4e71d21fbe5cf8b01ff0e069b9275f58929596ceb00d14d90e3e16cd6"
   }
  }
 },
 "nbformat": 4,
 "nbformat_minor": 2
}
