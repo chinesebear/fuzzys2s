{
 "cells": [
  {
   "cell_type": "code",
   "execution_count": 23,
   "metadata": {},
   "outputs": [
    {
     "ename": "SyntaxError",
     "evalue": "invalid syntax (2472732890.py, line 7)",
     "output_type": "error",
     "traceback": [
      "\u001b[0;36m  Cell \u001b[0;32mIn[23], line 7\u001b[0;36m\u001b[0m\n\u001b[0;31m    from /home/yang/github/evaluate/metrics/bleu.bleu import Bleu\u001b[0m\n\u001b[0m         ^\u001b[0m\n\u001b[0;31mSyntaxError\u001b[0m\u001b[0;31m:\u001b[0m invalid syntax\n"
     ]
    }
   ],
   "source": [
    "import evaluate\n",
    "# metrics_list = evaluate.list_evaluation_modules()\n",
    "# print(metrics_list)\n",
    "# acc = evaluate.load('accuracy')\n",
    "# res = acc.compute(references=[1,2,3,4], predictions=[1,2,3,3])\n",
    "# print(res)\n",
    "from bleu.bleu import Bleu\n",
    "bleu = Bleu()\n",
    "res = bleu.compute(references=[1,2,3,4], predictions=[1,2,3,3])\n",
    "print(res)"
   ]
  }
 ],
 "metadata": {
  "kernelspec": {
   "display_name": "Python 3.10.6 64-bit",
   "language": "python",
   "name": "python3"
  },
  "language_info": {
   "codemirror_mode": {
    "name": "ipython",
    "version": 3
   },
   "file_extension": ".py",
   "mimetype": "text/x-python",
   "name": "python",
   "nbconvert_exporter": "python",
   "pygments_lexer": "ipython3",
   "version": "3.10.6"
  },
  "orig_nbformat": 4,
  "vscode": {
   "interpreter": {
    "hash": "916dbcbb3f70747c44a77c7bcd40155683ae19c65e1c03b4aa3499c5328201f1"
   }
  }
 },
 "nbformat": 4,
 "nbformat_minor": 2
}
